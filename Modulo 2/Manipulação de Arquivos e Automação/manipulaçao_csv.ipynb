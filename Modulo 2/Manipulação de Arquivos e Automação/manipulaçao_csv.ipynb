{
 "cells": [
  {
   "cell_type": "markdown",
   "id": "fa09aafb",
   "metadata": {},
   "source": [
    "# CSV"
   ]
  },
  {
   "cell_type": "markdown",
   "id": "bdad2b5d",
   "metadata": {},
   "source": [
    "CSV (coma-separeted values) um formato de arquivo de texto simples usado para armazenar dados em formato de tabela, onde:\n",
    "- cada linha representa um registre\n",
    "- cada coluna e separada por virgulas (ou outro delimitador)\n",
    "- Pode ser aberto vir excel, GoogleSheets, pandas etc\n",
    "\n",
    "exemplo de conteudo de um aluno.csv:\n",
    "nome,idade,curso\n",
    "enrico, 15, python\n",
    "Joao, 25, Data science\n",
    "\n",
    "O modulo csv permite ler e escrever arquivos CSV facilmente. Ele oferece duas formas principais:\n",
    " * usando listras como  csv.render() e csv.DicReader() e \n",
    " csv.DicWriter()"
   ]
  },
  {
   "cell_type": "code",
   "execution_count": null,
   "id": "b747b3c4",
   "metadata": {},
   "outputs": [],
   "source": [
    "import csv"
   ]
  },
  {
   "cell_type": "markdown",
   "id": "731af8f1",
   "metadata": {},
   "source": [
    "# 1. Criar um CSV com csv.write()"
   ]
  },
  {
   "cell_type": "code",
   "execution_count": 5,
   "id": "e860395f",
   "metadata": {},
   "outputs": [
    {
     "ename": "NameError",
     "evalue": "name 'csv' is not defined",
     "output_type": "error",
     "traceback": [
      "\u001b[31m---------------------------------------------------------------------------\u001b[39m",
      "\u001b[31mNameError\u001b[39m                                 Traceback (most recent call last)",
      "\u001b[36mCell\u001b[39m\u001b[36m \u001b[39m\u001b[32mIn[5]\u001b[39m\u001b[32m, line 12\u001b[39m\n\u001b[32m      8\u001b[39m \u001b[38;5;66;03m# Abrir o arquivo em modo escrita ('w'), com enconding e newline=''\u001b[39;00m\n\u001b[32m      9\u001b[39m \u001b[38;5;28;01mwith\u001b[39;00m \u001b[38;5;28mopen\u001b[39m(\u001b[33m'\u001b[39m\u001b[33malunos.csv\u001b[39m\u001b[33m'\u001b[39m, \u001b[33m'\u001b[39m\u001b[33mw\u001b[39m\u001b[33m'\u001b[39m, newline=\u001b[33m'\u001b[39m\u001b[33m'\u001b[39m, encoding=\u001b[33m'\u001b[39m\u001b[33mutf-8\u001b[39m\u001b[33m'\u001b[39m) \u001b[38;5;28;01mas\u001b[39;00m arquivo:\n\u001b[32m     10\u001b[39m     \u001b[38;5;66;03m# criamos um objeto 'write' que é o escritor de um arquivo csv.\u001b[39;00m\n\u001b[32m     11\u001b[39m     \u001b[38;5;66;03m# ele é responsável por transformar listas em linhas no arquivo csv\u001b[39;00m\n\u001b[32m---> \u001b[39m\u001b[32m12\u001b[39m     escritor = \u001b[43mcsv\u001b[49m.writer(arquivo)\n\u001b[32m     13\u001b[39m     \u001b[38;5;66;03m# escrever todas as linhas da lista 'dados' de uma vez, .writerows é um método do objeto escritor\u001b[39;00m\n\u001b[32m     14\u001b[39m     escritor.writerows(dados)\n",
      "\u001b[31mNameError\u001b[39m: name 'csv' is not defined"
     ]
    }
   ],
   "source": [
    "# 1. Criar um csv com o csv.write()\n",
    "dados = [\n",
    "    ['nome', 'idade', 'curso'],\n",
    "    ['maria', 30, 'Python'],\n",
    "    ['joao', 25, 'data Science']\n",
    "]\n",
    "\n",
    "# Abrir o arquivo em modo escrita ('w'), com enconding e newline=''\n",
    "with open('alunos.csv', 'w', newline='', encoding='utf-8') as arquivo:\n",
    "    # criamos um objeto 'write' que é o escritor de um arquivo csv.\n",
    "    # ele é responsável por transformar listas em linhas no arquivo csv\n",
    "    escritor = csv.writer(arquivo)\n",
    "    # escrever todas as linhas da lista 'dados' de uma vez, .writerows é um método do objeto escritor\n",
    "    escritor.writerows(dados)"
   ]
  },
  {
   "cell_type": "markdown",
   "id": "5ef46fb3",
   "metadata": {},
   "source": [
    "# 2. Ler um csv com csv.render"
   ]
  },
  {
   "cell_type": "code",
   "execution_count": null,
   "id": "b711f654",
   "metadata": {},
   "outputs": [],
   "source": [
    "# Abrimos o arquivo em modo leitura('r'), com enconding\n",
    "with open('alunos.csv', 'r', encoding='utf-8') as arquivo:\n",
    "    # o reader cria um objeto iterável que transforma cada linha do CSV em uma lista.\n",
    "    leitor = csv.reader(arquivo)\n",
    "\n",
    "    for linha in leitor:\n",
    "        print(linha)\n"
   ]
  },
  {
   "cell_type": "markdown",
   "id": "671c7a89",
   "metadata": {},
   "source": [
    "# 3. Lendo como dicionário com csv.DictReader()"
   ]
  },
  {
   "cell_type": "code",
   "execution_count": 4,
   "id": "f7ff1074",
   "metadata": {},
   "outputs": [
    {
     "ename": "NameError",
     "evalue": "name 'csv' is not defined",
     "output_type": "error",
     "traceback": [
      "\u001b[31m---------------------------------------------------------------------------\u001b[39m",
      "\u001b[31mNameError\u001b[39m                                 Traceback (most recent call last)",
      "\u001b[36mCell\u001b[39m\u001b[36m \u001b[39m\u001b[32mIn[4]\u001b[39m\u001b[32m, line 4\u001b[39m\n\u001b[32m      1\u001b[39m \u001b[38;5;66;03m# Abrimos o arquivo em modo leitura('r'), com enconding\u001b[39;00m\n\u001b[32m      2\u001b[39m \u001b[38;5;28;01mwith\u001b[39;00m \u001b[38;5;28mopen\u001b[39m(\u001b[33m'\u001b[39m\u001b[33malunos.csv\u001b[39m\u001b[33m'\u001b[39m, \u001b[33m'\u001b[39m\u001b[33mr\u001b[39m\u001b[33m'\u001b[39m, encoding=\u001b[33m'\u001b[39m\u001b[33mutf-8\u001b[39m\u001b[33m'\u001b[39m) \u001b[38;5;28;01mas\u001b[39;00m arquivo:\n\u001b[32m      3\u001b[39m     \u001b[38;5;66;03m# o reader cria um objeto iterável que transforma cada linha do CSV em uma lista.\u001b[39;00m\n\u001b[32m----> \u001b[39m\u001b[32m4\u001b[39m     leitor = \u001b[43mcsv\u001b[49m.DictReader(arquivo)\n\u001b[32m      6\u001b[39m     \u001b[38;5;28;01mfor\u001b[39;00m linha \u001b[38;5;129;01min\u001b[39;00m leitor:\n\u001b[32m      7\u001b[39m         \u001b[38;5;28mprint\u001b[39m(linha)\n",
      "\u001b[31mNameError\u001b[39m: name 'csv' is not defined"
     ]
    }
   ],
   "source": [
    "# Abrimos o arquivo em modo leitura('r'), com enconding\n",
    "with open('alunos.csv', 'r', encoding='utf-8') as arquivo:\n",
    "    # o reader cria um objeto iterável que transforma cada linha do CSV em uma lista.\n",
    "    leitor = csv.DictReader(arquivo)\n",
    "\n",
    "    for linha in leitor:\n",
    "        print(linha)\n",
    "{'nome': 'maria', 'idade': '30', 'curso': 'Python'}\n",
    "{'nome': 'joao', 'idade': '25', 'curso': 'data Science'}\n"
   ]
  },
  {
   "cell_type": "markdown",
   "id": "10465e8d",
   "metadata": {},
   "source": [
    "# 4. Adicionando uma linha ao CSV"
   ]
  },
  {
   "cell_type": "code",
   "execution_count": 2,
   "id": "38620a9f",
   "metadata": {},
   "outputs": [
    {
     "ename": "NameError",
     "evalue": "name 'csv' is not defined",
     "output_type": "error",
     "traceback": [
      "\u001b[31m---------------------------------------------------------------------------\u001b[39m",
      "\u001b[31mNameError\u001b[39m                                 Traceback (most recent call last)",
      "\u001b[36mCell\u001b[39m\u001b[36m \u001b[39m\u001b[32mIn[2]\u001b[39m\u001b[32m, line 4\u001b[39m\n\u001b[32m      1\u001b[39m nova_linha = [\u001b[33m'\u001b[39m\u001b[33mFernando\u001b[39m\u001b[33m'\u001b[39m, \u001b[32m27\u001b[39m, \u001b[33m'\u001b[39m\u001b[33mBanco de Dados\u001b[39m\u001b[33m'\u001b[39m]\n\u001b[32m      3\u001b[39m \u001b[38;5;28;01mwith\u001b[39;00m \u001b[38;5;28mopen\u001b[39m(\u001b[33m'\u001b[39m\u001b[33malunos.csv\u001b[39m\u001b[33m'\u001b[39m, \u001b[33m'\u001b[39m\u001b[33ma\u001b[39m\u001b[33m'\u001b[39m, newline=\u001b[33m'\u001b[39m\u001b[33m'\u001b[39m, encoding=\u001b[33m'\u001b[39m\u001b[33mutf-8\u001b[39m\u001b[33m'\u001b[39m) \u001b[38;5;28;01mas\u001b[39;00m arquivo:\n\u001b[32m----> \u001b[39m\u001b[32m4\u001b[39m     escritor = \u001b[43mcsv\u001b[49m.writer(arquivo)\n\u001b[32m      5\u001b[39m     escritor.writerow(nova_linha)\n",
      "\u001b[31mNameError\u001b[39m: name 'csv' is not defined"
     ]
    }
   ],
   "source": [
    "nova_linha = ['Fernando', 27, 'Banco de Dados']\n",
    "\n",
    "with open('alunos.csv', 'a', newline='', encoding='utf-8') as arquivo:\n",
    "    escritor = csv.writer(arquivo)\n",
    "    escritor.writerow(nova_linha)\n"
   ]
  },
  {
   "cell_type": "markdown",
   "id": "7f14580d",
   "metadata": {},
   "source": []
  }
 ],
 "metadata": {
  "kernelspec": {
   "display_name": "Python 3",
   "language": "python",
   "name": "python3"
  },
  "language_info": {
   "codemirror_mode": {
    "name": "ipython",
    "version": 3
   },
   "file_extension": ".py",
   "mimetype": "text/x-python",
   "name": "python",
   "nbconvert_exporter": "python",
   "pygments_lexer": "ipython3",
   "version": "3.13.2"
  }
 },
 "nbformat": 4,
 "nbformat_minor": 5
}
