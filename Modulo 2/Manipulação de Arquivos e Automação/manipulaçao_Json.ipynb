{
 "cells": [
  {
   "cell_type": "markdown",
   "id": "e6a86438",
   "metadata": {},
   "source": [
    "# 1 criando um json do zero"
   ]
  },
  {
   "cell_type": "code",
   "execution_count": null,
   "id": "988f6de0",
   "metadata": {},
   "outputs": [],
   "source": [
    "import json"
   ]
  },
  {
   "cell_type": "code",
   "execution_count": null,
   "id": "38ba8a1b",
   "metadata": {},
   "outputs": [],
   "source": [
    "# dicionario python\n",
    "dados ={\n",
    "    'nome':'Maria',\n",
    "    'idade':30,\n",
    "    'cursos':['python','machine learning']\n",
    "}\n",
    "\n",
    "with open('dados.json', 'w', encoding='utf-8')as arquivo:\n",
    "    json.dump(dados, arquivo, indent=4, ensure_ascii=False)\n",
    "\n",
    "# json.dump() = converte um objeto Python em json e escreve diretamente em um arquivo \n",
    "# ensure_ascci= False preserva os acentos e caracteres especiais"
   ]
  },
  {
   "cell_type": "markdown",
   "id": "4ebfb91c",
   "metadata": {},
   "source": [
    "# 2. Lendo Um arquivo JSON"
   ]
  },
  {
   "cell_type": "code",
   "execution_count": null,
   "id": "b6a7b31f",
   "metadata": {},
   "outputs": [],
   "source": [
    "with open('dados.json', 'r',encoding='utf-8') as arquivo:\n",
    "    dados = json.load(arquivo)\n",
    "print(dados)\n",
    "print(type(dados))\n",
    "\n",
    "# json.load() converte o arquivo json para dicionario\n"
   ]
  },
  {
   "cell_type": "markdown",
   "id": "bf27d701",
   "metadata": {},
   "source": [
    "#  3. convertendo um objeto em uma string do JSON"
   ]
  },
  {
   "cell_type": "code",
   "execution_count": null,
   "id": "8751df80",
   "metadata": {},
   "outputs": [],
   "source": [
    "dados ={\n",
    "    'nome':'joao',\n",
    "    'idade':35,\n",
    "    'ativo': True\n",
    "}\n",
    "\n",
    "json_str =json.dumps(dados, indent=2, ensure_ascii= False)\n",
    "print(json_str)\n",
    "print(type(json_str))"
   ]
  }
 ],
 "metadata": {
  "language_info": {
   "name": "python"
  }
 },
 "nbformat": 4,
 "nbformat_minor": 5
}
