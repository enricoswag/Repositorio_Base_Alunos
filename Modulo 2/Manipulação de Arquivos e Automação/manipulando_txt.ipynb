{
 "cells": [
  {
   "cell_type": "markdown",
   "id": "eec35778",
   "metadata": {},
   "source": [
    "# Lendo um txt\n",
    "\n",
    "em python, usamos a função open() para abrir arquivos "
   ]
  },
  {
   "cell_type": "code",
   "execution_count": null,
   "id": "3bc912ba",
   "metadata": {},
   "outputs": [
    {
     "name": "stdout",
     "output_type": "stream",
     "text": [
      "<_io.TextIOWrapper name='hello_world.txt' mode='r' encoding='cp1252'>\n"
     ]
    }
   ],
   "source": [
    "arquivo = open(\"hello_world.txt\", 'r')\n",
    "print(arquivo)"
   ]
  },
  {
   "cell_type": "markdown",
   "id": "6caeb096",
   "metadata": {},
   "source": [
    "Os modos sao:\n",
    "-r- leitura(real)\n",
    "-w- escrita(append, adiciona ao final)\n",
    "-a- escrita(crie um novo arquivo,erro se ja existir)\n",
    "x – escrita (cria um novo arquivo, erro se já existir)\n",
    "b – modo binário\n",
    "t – modo texto (padrão)"
   ]
  },
  {
   "cell_type": "code",
   "execution_count": null,
   "id": "879252ee",
   "metadata": {},
   "outputs": [],
   "source": [
    "with open('hello_world.txt', 'r') as f:\n",
    "    for linha in f:\n",
    "        print(linha)\n"
   ]
  },
  {
   "cell_type": "markdown",
   "id": "5a26e036",
   "metadata": {},
   "source": [
    "Lendo o arquivo 'Hello Word'\n",
    "\n",
    "O objeto _io.TextIOWrapper é a classe que representa arquivos abertos em modo texto em Python. Sempre que você abre um arquivo usando open() com o modo como r, w, a (ou seja, sem o modo binário, b), o que você recebe é uma instancia de_io.TextOwrapper"
   ]
  },
  {
   "cell_type": "code",
   "execution_count": 1,
   "id": "19661b7c",
   "metadata": {},
   "outputs": [
    {
     "ename": "NameError",
     "evalue": "name 'arquivo' is not defined",
     "output_type": "error",
     "traceback": [
      "\u001b[31m---------------------------------------------------------------------------\u001b[39m",
      "\u001b[31mNameError\u001b[39m                                 Traceback (most recent call last)",
      "\u001b[36mCell\u001b[39m\u001b[36m \u001b[39m\u001b[32mIn[1]\u001b[39m\u001b[32m, line 1\u001b[39m\n\u001b[32m----> \u001b[39m\u001b[32m1\u001b[39m \u001b[38;5;28mtype\u001b[39m(\u001b[43marquivo\u001b[49m)\n",
      "\u001b[31mNameError\u001b[39m: name 'arquivo' is not defined"
     ]
    }
   ],
   "source": [
    "type(arquivo)"
   ]
  }
 ],
 "metadata": {
  "kernelspec": {
   "display_name": "Python 3",
   "language": "python",
   "name": "python3"
  },
  "language_info": {
   "codemirror_mode": {
    "name": "ipython",
    "version": 3
   },
   "file_extension": ".py",
   "mimetype": "text/x-python",
   "name": "python",
   "nbconvert_exporter": "python",
   "pygments_lexer": "ipython3",
   "version": "3.13.2"
  }
 },
 "nbformat": 4,
 "nbformat_minor": 5
}
