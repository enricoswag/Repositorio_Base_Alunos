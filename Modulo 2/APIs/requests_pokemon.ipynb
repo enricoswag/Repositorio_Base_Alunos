{
 "cells": [
  {
   "cell_type": "code",
   "execution_count": null,
   "id": "05d10e94",
   "metadata": {},
   "outputs": [],
   "source": [
    "import requests\n",
    "res = requests.get('https://pokeapi.co/api/v2/pokemon/pikachu')\n",
    "print(res.text)\n",
    "print(type(res.text))\n",
    "dados_pokemon = res.json()\n",
    "print(type(dados_pokemon))"
   ]
  },
  {
   "cell_type": "code",
   "execution_count": null,
   "id": "ed977b0a",
   "metadata": {},
   "outputs": [],
   "source": [
    "for chave in dados_pokemon.keys():\n",
    "    print(chave)"
   ]
  },
  {
   "cell_type": "code",
   "execution_count": null,
   "id": "086229ff",
   "metadata": {},
   "outputs": [],
   "source": [
    "# acessando dados do dicionario utilizandoas chaves\n",
    "print(dados_pokemon['name'])\n",
    "print(dados_pokemon['moves'])\n",
    "print(dados_pokemon['types'])"
   ]
  },
  {
   "cell_type": "code",
   "execution_count": null,
   "id": "c1a4973a",
   "metadata": {},
   "outputs": [],
   "source": [
    "# customizar a buscar pelo menos\n",
    "import requests\n",
    "pokemon = input(\"Digite o nome de um Pokémon: \").lower()\n",
    "url = f'https://pokeapi.co/api/v2/pokemon/{pokemon}'\n",
    "res = requests.get(url)\n",
    "\n",
    "if res.status_code == 200:\n",
    "    data = res.json()\n",
    "    print(f'Nome: {data[\"name\"]}')\n",
    "    print('Tipos: ', ', '.join(t['type']['name'] for t in data['types']))\n",
    "else:\n",
    "    print('Pokémon não encontrado')\n"
   ]
  }
 ],
 "metadata": {
  "kernelspec": {
   "display_name": "Python 3",
   "language": "python",
   "name": "python3"
  },
  "language_info": {
   "codemirror_mode": {
    "name": "ipython",
    "version": 3
   },
   "file_extension": ".py",
   "mimetype": "text/x-python",
   "name": "python",
   "nbconvert_exporter": "python",
   "pygments_lexer": "ipython3",
   "version": "3.13.2"
  }
 },
 "nbformat": 4,
 "nbformat_minor": 5
}
